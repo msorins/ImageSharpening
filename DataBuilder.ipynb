{
  "cells": [
    {
      "cell_type": "code",
      "execution_count": 1,
      "outputs": [
        {
          "name": "stdout",
          "text": [
            "Collecting tensorflow\u003d\u003d2.0.0-alpha0\r\n",
            "  Using cached https://files.pythonhosted.org/packages/de/be/65c6c6ab4660ca8c0068a5fed739944f34af02b42cb727cefe0a5383dc8e/tensorflow-2.0.0a0-cp36-cp36m-macosx_10_11_x86_64.whl\r\n",
            "Collecting tf-estimator-nightly\u003c1.14.0.dev2019030116,\u003e\u003d1.14.0.dev2019030115 (from tensorflow\u003d\u003d2.0.0-alpha0)\r\n",
            "  Using cached https://files.pythonhosted.org/packages/13/82/f16063b4eed210dc2ab057930ac1da4fbe1e91b7b051a6c8370b401e6ae7/tf_estimator_nightly-1.14.0.dev2019030115-py2.py3-none-any.whl\r\n",
            "Collecting numpy\u003c2.0,\u003e\u003d1.14.5 (from tensorflow\u003d\u003d2.0.0-alpha0)\r\n",
            "  Using cached https://files.pythonhosted.org/packages/ae/76/4a4c012bca5688881c18f6e04694d221b88daa5d38526a4df87d75711199/numpy-1.16.3-cp36-cp36m-macosx_10_6_intel.macosx_10_9_intel.macosx_10_9_x86_64.macosx_10_10_intel.macosx_10_10_x86_64.whl\r\n",
            "Collecting keras-applications\u003e\u003d1.0.6 (from tensorflow\u003d\u003d2.0.0-alpha0)\r\n",
            "  Using cached https://files.pythonhosted.org/packages/90/85/64c82949765cfb246bbdaf5aca2d55f400f792655927a017710a78445def/Keras_Applications-1.0.7-py2.py3-none-any.whl\r\n",
            "Collecting wheel\u003e\u003d0.26 (from tensorflow\u003d\u003d2.0.0-alpha0)\r\n",
            "  Using cached https://files.pythonhosted.org/packages/96/ba/a4702cbb6a3a485239fbe9525443446203f00771af9ac000fa3ef2788201/wheel-0.33.1-py2.py3-none-any.whl\r\n",
            "Collecting grpcio\u003e\u003d1.8.6 (from tensorflow\u003d\u003d2.0.0-alpha0)\r\n",
            "  Using cached https://files.pythonhosted.org/packages/ea/9d/6f2b4665b6d1ed1af75dcc4964f79a1bd23a33814d0c2881538abb573749/grpcio-1.20.1-cp36-cp36m-macosx_10_9_x86_64.whl\r\n",
            "Collecting gast\u003e\u003d0.2.0 (from tensorflow\u003d\u003d2.0.0-alpha0)\r\n",
            "  Using cached https://files.pythonhosted.org/packages/4e/35/11749bf99b2d4e3cceb4d55ca22590b0d7c2c62b9de38ac4a4a7f4687421/gast-0.2.2.tar.gz\r\n",
            "Collecting google-pasta\u003e\u003d0.1.2 (from tensorflow\u003d\u003d2.0.0-alpha0)\r\n",
            "  Using cached https://files.pythonhosted.org/packages/64/bb/f1bbc131d6294baa6085a222d29abadd012696b73dcbf8cf1bf56b9f082a/google_pasta-0.1.5-py3-none-any.whl\r\n",
            "Collecting absl-py\u003e\u003d0.7.0 (from tensorflow\u003d\u003d2.0.0-alpha0)\r\n",
            "  Using cached https://files.pythonhosted.org/packages/da/3f/9b0355080b81b15ba6a9ffcf1f5ea39e307a2778b2f2dc8694724e8abd5b/absl-py-0.7.1.tar.gz\r\n",
            "Collecting termcolor\u003e\u003d1.1.0 (from tensorflow\u003d\u003d2.0.0-alpha0)\r\n",
            "Collecting astor\u003e\u003d0.6.0 (from tensorflow\u003d\u003d2.0.0-alpha0)\r\n",
            "  Using cached https://files.pythonhosted.org/packages/35/6b/11530768cac581a12952a2aad00e1526b89d242d0b9f59534ef6e6a1752f/astor-0.7.1-py2.py3-none-any.whl\r\n",
            "Collecting tb-nightly\u003c1.14.0a20190302,\u003e\u003d1.14.0a20190301 (from tensorflow\u003d\u003d2.0.0-alpha0)\r\n",
            "  Using cached https://files.pythonhosted.org/packages/a9/51/aa1d756644bf4624c03844115e4ac4058eff77acd786b26315f051a4b195/tb_nightly-1.14.0a20190301-py3-none-any.whl\r\n",
            "Collecting protobuf\u003e\u003d3.6.1 (from tensorflow\u003d\u003d2.0.0-alpha0)\r\n",
            "  Using cached https://files.pythonhosted.org/packages/46/1e/c481d59760cded074d89ff51c99381708111c550ff698934cc296d27df2c/protobuf-3.7.1-cp36-cp36m-macosx_10_9_intel.macosx_10_9_x86_64.macosx_10_10_intel.macosx_10_10_x86_64.whl\r\n",
            "Requirement not upgraded as not directly required: six\u003e\u003d1.10.0 in ./venv/lib/python3.6/site-packages (from tensorflow\u003d\u003d2.0.0-alpha0) (1.12.0)\r\n",
            "Collecting keras-preprocessing\u003e\u003d1.0.5 (from tensorflow\u003d\u003d2.0.0-alpha0)\r\n",
            "  Using cached https://files.pythonhosted.org/packages/c0/bf/0315ef6a9fd3fc2346e85b0ff1f5f83ca17073f2c31ac719ab2e4da0d4a3/Keras_Preprocessing-1.0.9-py2.py3-none-any.whl\r\n",
            "Collecting h5py (from keras-applications\u003e\u003d1.0.6-\u003etensorflow\u003d\u003d2.0.0-alpha0)\r\n",
            "  Using cached https://files.pythonhosted.org/packages/03/21/1cdf7fa7868528b35c1a08a770eb9334279574a8b5f1d7a2966dcec14e42/h5py-2.9.0-cp36-cp36m-macosx_10_6_intel.macosx_10_9_intel.macosx_10_9_x86_64.macosx_10_10_intel.macosx_10_10_x86_64.whl\r\n",
            "Collecting markdown\u003e\u003d2.6.8 (from tb-nightly\u003c1.14.0a20190302,\u003e\u003d1.14.0a20190301-\u003etensorflow\u003d\u003d2.0.0-alpha0)\r\n",
            "  Using cached https://files.pythonhosted.org/packages/f5/e4/d8c18f2555add57ff21bf25af36d827145896a07607486cc79a2aea641af/Markdown-3.1-py2.py3-none-any.whl\r\n",
            "Collecting werkzeug\u003e\u003d0.11.15 (from tb-nightly\u003c1.14.0a20190302,\u003e\u003d1.14.0a20190301-\u003etensorflow\u003d\u003d2.0.0-alpha0)\r\n",
            "  Using cached https://files.pythonhosted.org/packages/18/79/84f02539cc181cdbf5ff5a41b9f52cae870b6f632767e43ba6ac70132e92/Werkzeug-0.15.2-py2.py3-none-any.whl\r\n",
            "Requirement not upgraded as not directly required: setuptools in ./venv/lib/python3.6/site-packages/setuptools-39.1.0-py3.6.egg (from protobuf\u003e\u003d3.6.1-\u003etensorflow\u003d\u003d2.0.0-alpha0) (39.1.0)\r\n",
            "Installing collected packages: tf-estimator-nightly, numpy, h5py, keras-applications, wheel, grpcio, gast, google-pasta, absl-py, termcolor, astor, markdown, werkzeug, protobuf, tb-nightly, keras-preprocessing, tensorflow\r\n",
            "  Running setup.py install for gast ... \u001b[?25l-",
            "\b \b\\",
            "\b \bdone\r\n",
            "\u001b[?25h  Running setup.py install for absl-py ... \u001b[?25l-",
            "\b \b\\",
            "\b \bdone\r\n",
            "\u001b[?25hSuccessfully installed absl-py-0.7.1 astor-0.7.1 gast-0.2.2 google-pasta-0.1.5 grpcio-1.20.1 h5py-2.9.0 keras-applications-1.0.7 keras-preprocessing-1.0.9 markdown-3.1 numpy-1.16.3 protobuf-3.7.1 tb-nightly-1.14.0a20190301 tensorflow-2.0.0a0 termcolor-1.1.0 tf-estimator-nightly-1.14.0.dev2019030115 werkzeug-0.15.2 wheel-0.33.1\r\n",
            "\u001b[33mYou are using pip version 10.0.1, however version 19.1 is available.\r\nYou should consider upgrading via the \u0027pip install --upgrade pip\u0027 command.\u001b[0m\r\n",
            "Collecting pillow\r\n",
            "  Using cached https://files.pythonhosted.org/packages/68/3a/61531c34cc18f77b9f979f2cf1a670ae3e98316521e78e3f070c4cc5029b/Pillow-6.0.0-cp36-cp36m-macosx_10_6_intel.macosx_10_9_intel.macosx_10_9_x86_64.macosx_10_10_intel.macosx_10_10_x86_64.whl\r\n",
            "Installing collected packages: pillow\r\n",
            "Successfully installed pillow-6.0.0\r\n",
            "\u001b[33mYou are using pip version 10.0.1, however version 19.1 is available.\r\nYou should consider upgrading via the \u0027pip install --upgrade pip\u0027 command.\u001b[0m\r\n",
            "Collecting scipy\r\n",
            "  Using cached https://files.pythonhosted.org/packages/f4/b1/6e0c995d7646b12112a721e93dc6316409cc4827c10ee309747f45ea6bfd/scipy-1.2.1-cp36-cp36m-macosx_10_6_intel.macosx_10_9_intel.macosx_10_9_x86_64.macosx_10_10_intel.macosx_10_10_x86_64.whl\r\n",
            "Requirement already satisfied: numpy\u003e\u003d1.8.2 in ./venv/lib/python3.6/site-packages (from scipy) (1.16.3)\r\n",
            "Installing collected packages: scipy\r\n",
            "Successfully installed scipy-1.2.1\r\n",
            "\u001b[33mYou are using pip version 10.0.1, however version 19.1 is available.\r\nYou should consider upgrading via the \u0027pip install --upgrade pip\u0027 command.\u001b[0m\r\n",
            "Collecting opencv-python\r\n",
            "  Using cached https://files.pythonhosted.org/packages/71/29/79695ff18de0a5943831fdbddaeb2d746ea1636370972dfd9cc59a14ba14/opencv_python-4.1.0.25-cp36-cp36m-macosx_10_7_x86_64.macosx_10_9_intel.macosx_10_9_x86_64.macosx_10_10_intel.macosx_10_10_x86_64.whl\r\n",
            "Requirement already satisfied: numpy\u003e\u003d1.11.3 in ./venv/lib/python3.6/site-packages (from opencv-python) (1.16.3)\r\n",
            "Installing collected packages: opencv-python\r\n",
            "Successfully installed opencv-python-4.1.0.25\r\n",
            "\u001b[33mYou are using pip version 10.0.1, however version 19.1 is available.\r\nYou should consider upgrading via the \u0027pip install --upgrade pip\u0027 command.\u001b[0m\r\n",
            "Collecting matplotlib\r\n",
            "  Using cached https://files.pythonhosted.org/packages/82/7e/184d995d711e3401722769cd6982b46d42aee14a82ba54a3a79425f939c9/matplotlib-3.0.3-cp36-cp36m-macosx_10_6_intel.macosx_10_9_intel.macosx_10_9_x86_64.macosx_10_10_intel.macosx_10_10_x86_64.whl\r\n",
            "Requirement already satisfied: python-dateutil\u003e\u003d2.1 in ./venv/lib/python3.6/site-packages (from matplotlib) (2.8.0)\r\n",
            "Collecting kiwisolver\u003e\u003d1.0.1 (from matplotlib)\r\n",
            "  Using cached https://files.pythonhosted.org/packages/49/5d/d1726d2a2fd471a69ef5014ca42812e1ccb8a13085c42bfcb238a5611f39/kiwisolver-1.1.0-cp36-cp36m-macosx_10_6_intel.macosx_10_9_intel.macosx_10_9_x86_64.macosx_10_10_intel.macosx_10_10_x86_64.whl\r\n",
            "Requirement already satisfied: numpy\u003e\u003d1.10.0 in ./venv/lib/python3.6/site-packages (from matplotlib) (1.16.3)\r\n",
            "Collecting cycler\u003e\u003d0.10 (from matplotlib)\r\n",
            "  Using cached https://files.pythonhosted.org/packages/f7/d2/e07d3ebb2bd7af696440ce7e754c59dd546ffe1bbe732c8ab68b9c834e61/cycler-0.10.0-py2.py3-none-any.whl\r\n",
            "Collecting pyparsing!\u003d2.0.4,!\u003d2.1.2,!\u003d2.1.6,\u003e\u003d2.0.1 (from matplotlib)\r\n",
            "  Using cached https://files.pythonhosted.org/packages/dd/d9/3ec19e966301a6e25769976999bd7bbe552016f0d32b577dc9d63d2e0c49/pyparsing-2.4.0-py2.py3-none-any.whl\r\n",
            "Requirement already satisfied: six\u003e\u003d1.5 in ./venv/lib/python3.6/site-packages (from python-dateutil\u003e\u003d2.1-\u003ematplotlib) (1.12.0)\r\nRequirement already satisfied: setuptools in ./venv/lib/python3.6/site-packages/setuptools-39.1.0-py3.6.egg (from kiwisolver\u003e\u003d1.0.1-\u003ematplotlib) (39.1.0)\r\n",
            "Installing collected packages: kiwisolver, cycler, pyparsing, matplotlib\r\n",
            "Successfully installed cycler-0.10.0 kiwisolver-1.1.0 matplotlib-3.0.3 pyparsing-2.4.0\r\n",
            "\u001b[33mYou are using pip version 10.0.1, however version 19.1 is available.\r\nYou should consider upgrading via the \u0027pip install --upgrade pip\u0027 command.\u001b[0m\r\n"
          ],
          "output_type": "stream"
        }
      ],
      "source": "!pip install tensorflow\u003d\u003d2.0.0-alpha0  --upgrade\n!pip install pillow\n!pip install scipy\n!pip install opencv-python\n!pip install matplotlib\n",
      "metadata": {
        "pycharm": {
          "metadata": false,
          "name": "#%%capture\n",
          "is_executing": false
        }
      }
    },
    {
      "cell_type": "code",
      "execution_count": 1,
      "metadata": {
        "collapsed": true,
        "pycharm": {
          "is_executing": false
        }
      },
      "outputs": [],
      "source": "import math\nimport cv2 as cv2\nimport numpy as np\nimport asyncio\nimport glob\n"
    },
    {
      "cell_type": "code",
      "execution_count": 8,
      "outputs": [],
      "source": "class Core:\n    def __init__(self):\n        self.kernel \u003d 1 / 454 * np.array([[1, 4, 6, 4, 1], [4, 16, 24, 16, 4], [6, 24, 36, 24, 6], [4, 16, 24, 16, 4],\n                                          [100, 4, 6, 4, 100]])\n        \n        self.kernel \u003d np.array([[0.0625, 0.125, 0.0625], [0.125, 0.25, 0.125], [0.0625, 0.125, 0.0625]])\n        self.nrTh \u003d 4\n\n    def readFile(self, fileName):\n        self.img \u003d cv2.imread(fileName)\n        self.img \u003d cv2.resize(self.img, (100, 100))\n        \n        # Rewrite the original image\n        self.originalImg \u003d self.img\n        cv2.imwrite(fileName, self.img)\n\n    def writeImg(self, fileName):\n        cv2.imwrite(fileName, self.img)\n\n    def parseImg(self):\n        h \u003d self.img.shape[0]\n        w \u003d self.img.shape[1]\n\n        blank_image \u003d np.zeros((h, w, 3), np.uint8)\n\n        for i in range(0, self.nrTh):\n            self.setNewPxThr(i,blank_image)\n\n        for i in range(h):\n            blank_image[i][0] \u003d self.img[i][0]\n            blank_image[i][1] \u003d self.img[i][1]\n            blank_image[i][-1] \u003d self.img[i][-1]\n            blank_image[i][-2] \u003d self.img[i][-2]\n            \n        self.img \u003d blank_image\n\n    def showImg(self):\n        cv2.imshow(\"SA\", self.img)\n\n    def multiplyPx(self, i, j, channel):\n        if i \u003c\u003d 1 or j \u003c\u003d 1 or i \u003e\u003d self.img.shape[0] - 2 or j \u003e\u003d self.img.shape[1] - 2:\n            return self.img[i][j][channel]\n\n        res \u003d 0\n\n        for kerI in range(0, 3):\n            for kerJ in range(0, 3):\n                res +\u003d self.kernel[kerI, kerJ] * self.img[i - 2 + kerI, j - 2 + kerJ, channel]\n\n        return res\n\n    def setNewPxThr(self,thId, blank_image):\n        h \u003d self.img.shape[0]\n        w \u003d self.img.shape[1]\n\n        linesEachProcess \u003d math.ceil(self.img.shape[1] / self.nrTh)\n        to \u003d min(linesEachProcess * (thId + 1), int(self.img.shape[1]) - 2)\n\n        for x in range(linesEachProcess * thId, to):\n            if thId \u003d\u003d 0:\n                x+\u003d2\n            for y in range(0, h):\n                for c in range(0, 3):\n                    blank_image[y, x, c] \u003d self.multiplyPx(y, x, c)\n",
      "metadata": {
        "pycharm": {
          "metadata": false,
          "name": "#%%\n",
          "is_executing": false
        }
      }
    },
    {
      "cell_type": "code",
      "execution_count": 10,
      "outputs": [],
      "source": "IMGS \u003d glob.glob(\u0027data/train/sharp/*.jpg\u0027)\ncore \u003d Core()\nfor i, figPath in enumerate(IMGS):\n    fileName \u003d figPath.split(\u0027/\u0027)[-1]\n    core.readFile(figPath)\n    core.parseImg()\n    core.writeImg(\u0027data/train/blur/\u0027 + fileName)\n",
      "metadata": {
        "pycharm": {
          "metadata": false,
          "name": "#%%\n",
          "is_executing": false
        }
      }
    },
    {
      "cell_type": "code",
      "execution_count": 11,
      "outputs": [
        {
          "name": "stdout",
          "text": [
            "done\n"
          ],
          "output_type": "stream"
        }
      ],
      "source": "print(\"done\")    ",
      "metadata": {
        "pycharm": {
          "metadata": false,
          "name": "#%%\n",
          "is_executing": false
        }
      }
    }
  ],
  "metadata": {
    "language_info": {
      "codemirror_mode": {
        "name": "ipython",
        "version": 2
      },
      "file_extension": ".py",
      "mimetype": "text/x-python",
      "name": "python",
      "nbconvert_exporter": "python",
      "pygments_lexer": "ipython2",
      "version": "2.7.6"
    },
    "kernelspec": {
      "name": "python3",
      "language": "python",
      "display_name": "Python 3"
    },
    "stem_cell": {
      "cell_type": "raw",
      "source": "",
      "metadata": {
        "pycharm": {
          "metadata": false
        }
      }
    }
  },
  "nbformat": 4,
  "nbformat_minor": 0
}